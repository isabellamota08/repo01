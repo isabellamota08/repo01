{
  "nbformat": 4,
  "nbformat_minor": 0,
  "metadata": {
    "colab": {
      "name": "exemplo1.ipynb",
      "provenance": [],
      "collapsed_sections": [],
      "authorship_tag": "ABX9TyOr1MxlTbCeeNKz1isAeKaA",
      "include_colab_link": true
    },
    "kernelspec": {
      "name": "python3",
      "display_name": "Python 3"
    }
  },
  "cells": [
    {
      "cell_type": "markdown",
      "metadata": {
        "id": "view-in-github",
        "colab_type": "text"
      },
      "source": [
        "<a href=\"https://colab.research.google.com/github/isabellamota08/repo01/blob/master/exemplo1.ipynb\" target=\"_parent\"><img src=\"https://colab.research.google.com/assets/colab-badge.svg\" alt=\"Open In Colab\"/></a>"
      ]
    },
    {
      "cell_type": "markdown",
      "metadata": {
        "id": "V24uTQzMyoTU",
        "colab_type": "text"
      },
      "source": [
        ""
      ]
    },
    {
      "cell_type": "code",
      "metadata": {
        "id": "cjh7E0Ym1ou_",
        "colab_type": "code",
        "colab": {
          "base_uri": "https://localhost:8080/",
          "height": 34
        },
        "outputId": "d2e7f49a-dccf-492a-b0e8-556cfdf08ab9"
      },
      "source": [
        "### isto é um comando de saida\n",
        "print('Olá cruel world!!')\n",
        "\n",
        "# é comentario"
      ],
      "execution_count": 4,
      "outputs": [
        {
          "output_type": "stream",
          "text": [
            "Olá cruel world!!\n"
          ],
          "name": "stdout"
        }
      ]
    },
    {
      "cell_type": "markdown",
      "metadata": {
        "id": "CPDrRJco4ZiR",
        "colab_type": "text"
      },
      "source": [
        "esta é uma célula apenas de texto\n",
        "\n",
        "**NEGRITO**\n",
        "*ITÁLICO*"
      ]
    },
    {
      "cell_type": "markdown",
      "metadata": {
        "id": "2_b075Ia46CF",
        "colab_type": "text"
      },
      "source": [
        "Abaixo veremos como mesclas uma saida de tela\n"
      ]
    },
    {
      "cell_type": "code",
      "metadata": {
        "id": "xHLPTI_o5CXk",
        "colab_type": "code",
        "colab": {
          "base_uri": "https://localhost:8080/",
          "height": 34
        },
        "outputId": "722f4473-57b1-4ee7-9ddb-0efe7e666fa2"
      },
      "source": [
        "print('Isabella','Mota','De','Almeida')\n"
      ],
      "execution_count": 6,
      "outputs": [
        {
          "output_type": "stream",
          "text": [
            "Isabella Mota De Almeida\n"
          ],
          "name": "stdout"
        }
      ]
    }
  ]
}